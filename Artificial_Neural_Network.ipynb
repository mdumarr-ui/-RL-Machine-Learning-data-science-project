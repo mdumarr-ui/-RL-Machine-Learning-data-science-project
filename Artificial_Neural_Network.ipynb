{
  "nbformat": 4,
  "nbformat_minor": 0,
  "metadata": {
    "colab": {
      "provenance": [],
      "include_colab_link": true
    },
    "kernelspec": {
      "name": "python3",
      "display_name": "Python 3"
    }
  },
  "cells": [
    {
      "cell_type": "markdown",
      "metadata": {
        "id": "view-in-github",
        "colab_type": "text"
      },
      "source": [
        "<a href=\"https://colab.research.google.com/github/mdumarr-ui/-RL-Machine-Learning-data-science-project/blob/main/Artificial_Neural_Network.ipynb\" target=\"_parent\"><img src=\"https://colab.research.google.com/assets/colab-badge.svg\" alt=\"Open In Colab\"/></a>"
      ]
    },
    {
      "cell_type": "markdown",
      "metadata": {
        "id": "3cbb7fRy-eyr"
      },
      "source": [
        "# Artificial Neural Network"
      ]
    },
    {
      "cell_type": "markdown",
      "metadata": {
        "id": "8sNDnxE2-pwE"
      },
      "source": [
        "### Importing the libraries"
      ]
    },
    {
      "cell_type": "code",
      "metadata": {
        "id": "lxChR1Rk-umf"
      },
      "source": [
        "import numpy as np\n",
        "import pandas as pd\n",
        "import tensorflow as tf"
      ],
      "execution_count": 1,
      "outputs": []
    },
    {
      "cell_type": "code",
      "metadata": {
        "id": "uBTqR3nacj0e",
        "colab": {
          "base_uri": "https://localhost:8080/",
          "height": 34
        },
        "outputId": "4c0bd183-e424-429a-9fba-ceb841c06888"
      },
      "source": [
        "tf.__version__"
      ],
      "execution_count": null,
      "outputs": [
        {
          "output_type": "execute_result",
          "data": {
            "text/plain": [
              "'2.2.0-rc2'"
            ]
          },
          "metadata": {
            "tags": []
          },
          "execution_count": 2
        }
      ]
    },
    {
      "cell_type": "markdown",
      "metadata": {
        "id": "AG3FQEch-yuA"
      },
      "source": [
        "## Part 1 - Data Preprocessing"
      ]
    },
    {
      "cell_type": "markdown",
      "metadata": {
        "id": "-4zq8Mza_D9O"
      },
      "source": [
        "### Importing the dataset"
      ]
    },
    {
      "cell_type": "code",
      "metadata": {
        "id": "B9CV13Co_HHM"
      },
      "source": [
        "dataset = pd.read_excel('Folds5x2_pp.xlsx')\n",
        "X = dataset.iloc[:, :-1].values\n",
        "y = dataset.iloc[:, -1].values"
      ],
      "execution_count": 2,
      "outputs": []
    },
    {
      "cell_type": "markdown",
      "metadata": {
        "id": "VC6omXel_Up0"
      },
      "source": [
        "### Splitting the dataset into the Training set and Test set"
      ]
    },
    {
      "cell_type": "code",
      "metadata": {
        "id": "L5edeb2r_agx"
      },
      "source": [
        "from sklearn.model_selection import train_test_split\n",
        "X_train, X_test, y_train, y_test = train_test_split(X, y, test_size = 0.2, random_state = 0)"
      ],
      "execution_count": 3,
      "outputs": []
    },
    {
      "cell_type": "markdown",
      "metadata": {
        "id": "_mSLlAT9_eyI"
      },
      "source": [
        "## Part 2 - Building the ANN"
      ]
    },
    {
      "cell_type": "markdown",
      "metadata": {
        "id": "CsBULd_f_wLY"
      },
      "source": [
        "### Initializing the ANN"
      ]
    },
    {
      "cell_type": "code",
      "metadata": {
        "id": "J6Hd97Ls__Nz"
      },
      "source": [
        "ann = tf.keras.models.Sequential()"
      ],
      "execution_count": 8,
      "outputs": []
    },
    {
      "cell_type": "markdown",
      "metadata": {
        "id": "iitAFJS_ABUn"
      },
      "source": [
        "### Adding the input layer and the first hidden layer"
      ]
    },
    {
      "cell_type": "code",
      "metadata": {
        "id": "ksO_Vv40AHix"
      },
      "source": [
        "ann.add(tf.keras.layers.Dense(units=6, activation='relu'))"
      ],
      "execution_count": 9,
      "outputs": []
    },
    {
      "cell_type": "markdown",
      "metadata": {
        "id": "-lb4kK_wAKbs"
      },
      "source": [
        "### Adding the second hidden layer"
      ]
    },
    {
      "cell_type": "code",
      "metadata": {
        "id": "c2357OqEAQOQ"
      },
      "source": [
        "ann.add(tf.keras.layers.Dense(units=6, activation='relu'))"
      ],
      "execution_count": 10,
      "outputs": []
    },
    {
      "cell_type": "markdown",
      "metadata": {
        "id": "jwMOmKb3AdBY"
      },
      "source": [
        "### Adding the output layer"
      ]
    },
    {
      "cell_type": "code",
      "metadata": {
        "id": "YFATpzsUAkLL"
      },
      "source": [
        "ann.add(tf.keras.layers.Dense(units=1))"
      ],
      "execution_count": 11,
      "outputs": []
    },
    {
      "cell_type": "markdown",
      "metadata": {
        "id": "fq7e4fF6A1yy"
      },
      "source": [
        "## Part 3 - Training the ANN"
      ]
    },
    {
      "cell_type": "markdown",
      "metadata": {
        "id": "qDeylAs2An25"
      },
      "source": [
        "### Compiling the ANN"
      ]
    },
    {
      "cell_type": "code",
      "metadata": {
        "id": "pesgbWlCAtB4"
      },
      "source": [
        "ann.compile(optimizer = 'adam', loss = 'mean_squared_error')"
      ],
      "execution_count": 12,
      "outputs": []
    },
    {
      "cell_type": "markdown",
      "metadata": {
        "id": "YjVuiybYOo7r"
      },
      "source": [
        "### Training the ANN model on the Training set"
      ]
    },
    {
      "cell_type": "code",
      "metadata": {
        "id": "c_vV-tiiA5zn",
        "colab": {
          "base_uri": "https://localhost:8080/"
        },
        "outputId": "7b41de2f-c45d-4017-f19f-f70b39b47ab4"
      },
      "source": [
        "ann.fit(X_train, y_train, batch_size = 32, epochs = 100)"
      ],
      "execution_count": 13,
      "outputs": [
        {
          "output_type": "stream",
          "name": "stdout",
          "text": [
            "Epoch 1/100\n",
            "240/240 [==============================] - 2s 3ms/step - loss: 29379.0312\n",
            "Epoch 2/100\n",
            "240/240 [==============================] - 0s 2ms/step - loss: 100.1628\n",
            "Epoch 3/100\n",
            "240/240 [==============================] - 0s 2ms/step - loss: 98.8214\n",
            "Epoch 4/100\n",
            "240/240 [==============================] - 0s 2ms/step - loss: 96.8856\n",
            "Epoch 5/100\n",
            "240/240 [==============================] - 0s 2ms/step - loss: 94.6671\n",
            "Epoch 6/100\n",
            "240/240 [==============================] - 0s 2ms/step - loss: 92.3270\n",
            "Epoch 7/100\n",
            "240/240 [==============================] - 0s 2ms/step - loss: 89.3057\n",
            "Epoch 8/100\n",
            "240/240 [==============================] - 0s 2ms/step - loss: 86.3327\n",
            "Epoch 9/100\n",
            "240/240 [==============================] - 0s 2ms/step - loss: 83.1586\n",
            "Epoch 10/100\n",
            "240/240 [==============================] - 0s 2ms/step - loss: 79.7573\n",
            "Epoch 11/100\n",
            "240/240 [==============================] - 0s 2ms/step - loss: 76.2245\n",
            "Epoch 12/100\n",
            "240/240 [==============================] - 0s 2ms/step - loss: 72.4918\n",
            "Epoch 13/100\n",
            "240/240 [==============================] - 0s 2ms/step - loss: 69.0212\n",
            "Epoch 14/100\n",
            "240/240 [==============================] - 0s 2ms/step - loss: 65.4129\n",
            "Epoch 15/100\n",
            "240/240 [==============================] - 0s 2ms/step - loss: 61.6256\n",
            "Epoch 16/100\n",
            "240/240 [==============================] - 0s 2ms/step - loss: 58.3647\n",
            "Epoch 17/100\n",
            "240/240 [==============================] - 0s 2ms/step - loss: 55.0821\n",
            "Epoch 18/100\n",
            "240/240 [==============================] - 0s 2ms/step - loss: 52.2232\n",
            "Epoch 19/100\n",
            "240/240 [==============================] - 0s 2ms/step - loss: 49.1487\n",
            "Epoch 20/100\n",
            "240/240 [==============================] - 0s 2ms/step - loss: 46.8547\n",
            "Epoch 21/100\n",
            "240/240 [==============================] - 0s 2ms/step - loss: 43.7548\n",
            "Epoch 22/100\n",
            "240/240 [==============================] - 0s 2ms/step - loss: 41.8267\n",
            "Epoch 23/100\n",
            "240/240 [==============================] - 0s 2ms/step - loss: 39.8882\n",
            "Epoch 24/100\n",
            "240/240 [==============================] - 1s 2ms/step - loss: 37.7173\n",
            "Epoch 25/100\n",
            "240/240 [==============================] - 1s 3ms/step - loss: 36.6716\n",
            "Epoch 26/100\n",
            "240/240 [==============================] - 1s 3ms/step - loss: 35.0033\n",
            "Epoch 27/100\n",
            "240/240 [==============================] - 1s 3ms/step - loss: 33.8287\n",
            "Epoch 28/100\n",
            "240/240 [==============================] - 1s 3ms/step - loss: 32.8044\n",
            "Epoch 29/100\n",
            "240/240 [==============================] - 1s 3ms/step - loss: 32.1454\n",
            "Epoch 30/100\n",
            "240/240 [==============================] - 0s 2ms/step - loss: 31.6596\n",
            "Epoch 31/100\n",
            "240/240 [==============================] - 0s 2ms/step - loss: 31.2172\n",
            "Epoch 32/100\n",
            "240/240 [==============================] - 0s 2ms/step - loss: 30.7067\n",
            "Epoch 33/100\n",
            "240/240 [==============================] - 0s 2ms/step - loss: 30.1685\n",
            "Epoch 34/100\n",
            "240/240 [==============================] - 0s 2ms/step - loss: 29.9284\n",
            "Epoch 35/100\n",
            "240/240 [==============================] - 0s 2ms/step - loss: 29.8273\n",
            "Epoch 36/100\n",
            "240/240 [==============================] - 0s 2ms/step - loss: 29.3639\n",
            "Epoch 37/100\n",
            "240/240 [==============================] - 0s 2ms/step - loss: 29.4610\n",
            "Epoch 38/100\n",
            "240/240 [==============================] - 0s 2ms/step - loss: 28.9777\n",
            "Epoch 39/100\n",
            "240/240 [==============================] - 0s 2ms/step - loss: 29.3245\n",
            "Epoch 40/100\n",
            "240/240 [==============================] - 0s 2ms/step - loss: 29.1540\n",
            "Epoch 41/100\n",
            "240/240 [==============================] - 0s 2ms/step - loss: 28.9566\n",
            "Epoch 42/100\n",
            "240/240 [==============================] - 0s 2ms/step - loss: 28.5211\n",
            "Epoch 43/100\n",
            "240/240 [==============================] - 0s 2ms/step - loss: 28.7205\n",
            "Epoch 44/100\n",
            "240/240 [==============================] - 0s 2ms/step - loss: 27.7959\n",
            "Epoch 45/100\n",
            "240/240 [==============================] - 0s 2ms/step - loss: 27.9497\n",
            "Epoch 46/100\n",
            "240/240 [==============================] - 0s 2ms/step - loss: 27.7845\n",
            "Epoch 47/100\n",
            "240/240 [==============================] - 0s 2ms/step - loss: 27.7121\n",
            "Epoch 48/100\n",
            "240/240 [==============================] - 0s 2ms/step - loss: 27.7082\n",
            "Epoch 49/100\n",
            "240/240 [==============================] - 0s 2ms/step - loss: 27.8485\n",
            "Epoch 50/100\n",
            "240/240 [==============================] - 0s 2ms/step - loss: 27.1562\n",
            "Epoch 51/100\n",
            "240/240 [==============================] - 0s 2ms/step - loss: 27.7210\n",
            "Epoch 52/100\n",
            "240/240 [==============================] - 0s 2ms/step - loss: 27.5203\n",
            "Epoch 53/100\n",
            "240/240 [==============================] - 1s 3ms/step - loss: 27.3776\n",
            "Epoch 54/100\n",
            "240/240 [==============================] - 1s 3ms/step - loss: 27.5613\n",
            "Epoch 55/100\n",
            "240/240 [==============================] - 1s 2ms/step - loss: 27.2272\n",
            "Epoch 56/100\n",
            "240/240 [==============================] - 1s 3ms/step - loss: 27.1094\n",
            "Epoch 57/100\n",
            "240/240 [==============================] - 1s 3ms/step - loss: 27.2208\n",
            "Epoch 58/100\n",
            "240/240 [==============================] - 1s 3ms/step - loss: 26.9347\n",
            "Epoch 59/100\n",
            "240/240 [==============================] - 0s 2ms/step - loss: 27.3245\n",
            "Epoch 60/100\n",
            "240/240 [==============================] - 0s 2ms/step - loss: 27.1135\n",
            "Epoch 61/100\n",
            "240/240 [==============================] - 0s 2ms/step - loss: 26.7955\n",
            "Epoch 62/100\n",
            "240/240 [==============================] - 0s 2ms/step - loss: 27.1547\n",
            "Epoch 63/100\n",
            "240/240 [==============================] - 0s 2ms/step - loss: 26.9785\n",
            "Epoch 64/100\n",
            "240/240 [==============================] - 0s 2ms/step - loss: 26.6302\n",
            "Epoch 65/100\n",
            "240/240 [==============================] - 0s 2ms/step - loss: 26.5815\n",
            "Epoch 66/100\n",
            "240/240 [==============================] - 0s 2ms/step - loss: 26.7657\n",
            "Epoch 67/100\n",
            "240/240 [==============================] - 0s 2ms/step - loss: 27.1907\n",
            "Epoch 68/100\n",
            "240/240 [==============================] - 0s 2ms/step - loss: 26.7624\n",
            "Epoch 69/100\n",
            "240/240 [==============================] - 0s 2ms/step - loss: 27.2504\n",
            "Epoch 70/100\n",
            "240/240 [==============================] - 0s 2ms/step - loss: 26.6608\n",
            "Epoch 71/100\n",
            "240/240 [==============================] - 0s 2ms/step - loss: 26.3025\n",
            "Epoch 72/100\n",
            "240/240 [==============================] - 0s 2ms/step - loss: 27.0189\n",
            "Epoch 73/100\n",
            "240/240 [==============================] - 0s 2ms/step - loss: 26.8142\n",
            "Epoch 74/100\n",
            "240/240 [==============================] - 0s 2ms/step - loss: 26.8734\n",
            "Epoch 75/100\n",
            "240/240 [==============================] - 0s 2ms/step - loss: 27.0601\n",
            "Epoch 76/100\n",
            "240/240 [==============================] - 0s 2ms/step - loss: 26.5520\n",
            "Epoch 77/100\n",
            "240/240 [==============================] - 0s 2ms/step - loss: 26.4715\n",
            "Epoch 78/100\n",
            "240/240 [==============================] - 0s 2ms/step - loss: 26.7535\n",
            "Epoch 79/100\n",
            "240/240 [==============================] - 0s 2ms/step - loss: 26.8662\n",
            "Epoch 80/100\n",
            "240/240 [==============================] - 0s 2ms/step - loss: 26.9737\n",
            "Epoch 81/100\n",
            "240/240 [==============================] - 0s 2ms/step - loss: 27.0658\n",
            "Epoch 82/100\n",
            "240/240 [==============================] - 1s 2ms/step - loss: 26.5640\n",
            "Epoch 83/100\n",
            "240/240 [==============================] - 1s 3ms/step - loss: 26.6080\n",
            "Epoch 84/100\n",
            "240/240 [==============================] - 1s 3ms/step - loss: 26.5902\n",
            "Epoch 85/100\n",
            "240/240 [==============================] - 1s 3ms/step - loss: 26.4860\n",
            "Epoch 86/100\n",
            "240/240 [==============================] - 1s 3ms/step - loss: 27.4844\n",
            "Epoch 87/100\n",
            "240/240 [==============================] - 1s 3ms/step - loss: 27.0343\n",
            "Epoch 88/100\n",
            "240/240 [==============================] - 1s 2ms/step - loss: 26.8894\n",
            "Epoch 89/100\n",
            "240/240 [==============================] - 0s 2ms/step - loss: 26.6980\n",
            "Epoch 90/100\n",
            "240/240 [==============================] - 0s 2ms/step - loss: 26.5987\n",
            "Epoch 91/100\n",
            "240/240 [==============================] - 0s 2ms/step - loss: 26.8206\n",
            "Epoch 92/100\n",
            "240/240 [==============================] - 0s 2ms/step - loss: 26.8331\n",
            "Epoch 93/100\n",
            "240/240 [==============================] - 0s 2ms/step - loss: 26.9358\n",
            "Epoch 94/100\n",
            "240/240 [==============================] - 0s 2ms/step - loss: 26.7669\n",
            "Epoch 95/100\n",
            "240/240 [==============================] - 0s 2ms/step - loss: 26.9694\n",
            "Epoch 96/100\n",
            "240/240 [==============================] - 0s 2ms/step - loss: 26.4678\n",
            "Epoch 97/100\n",
            "240/240 [==============================] - 0s 2ms/step - loss: 26.7254\n",
            "Epoch 98/100\n",
            "240/240 [==============================] - 0s 2ms/step - loss: 27.0203\n",
            "Epoch 99/100\n",
            "240/240 [==============================] - 0s 2ms/step - loss: 27.1810\n",
            "Epoch 100/100\n",
            "240/240 [==============================] - 0s 2ms/step - loss: 27.1210\n"
          ]
        },
        {
          "output_type": "execute_result",
          "data": {
            "text/plain": [
              "<keras.src.callbacks.History at 0x7d4a92d1e920>"
            ]
          },
          "metadata": {},
          "execution_count": 13
        }
      ]
    },
    {
      "cell_type": "markdown",
      "metadata": {
        "id": "0H0zKKNEBLD5"
      },
      "source": [
        "### Predicting the results of the Test set"
      ]
    },
    {
      "cell_type": "code",
      "metadata": {
        "id": "IA0yApEmBG1X",
        "colab": {
          "base_uri": "https://localhost:8080/"
        },
        "outputId": "01c45881-e9bb-47c3-b9bd-03427ab10898"
      },
      "source": [
        "y_pred = ann.predict(X_test)\n",
        "np.set_printoptions(precision=2)\n",
        "print(np.concatenate((y_pred.reshape(len(y_pred),1), y_test.reshape(len(y_test),1)),1))"
      ],
      "execution_count": 15,
      "outputs": [
        {
          "output_type": "stream",
          "name": "stdout",
          "text": [
            "60/60 [==============================] - 0s 1ms/step\n",
            "[[432.24 431.23]\n",
            " [463.38 460.01]\n",
            " [466.91 461.14]\n",
            " ...\n",
            " [474.1  473.26]\n",
            " [440.93 438.  ]\n",
            " [460.13 463.28]]\n"
          ]
        }
      ]
    }
  ]
}